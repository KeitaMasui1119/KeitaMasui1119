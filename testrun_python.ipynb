{
 "metadata": {
  "language_info": {
   "codemirror_mode": {
    "name": "ipython",
    "version": 3
   },
   "file_extension": ".py",
   "mimetype": "text/x-python",
   "name": "python",
   "nbconvert_exporter": "python",
   "pygments_lexer": "ipython3",
   "version": "3.8.5"
  },
  "orig_nbformat": 2,
  "kernelspec": {
   "name": "python385jvsc74a57bd03df103344a44659d42a63ac05c72477b6b53d8189de4a1a40c250e057ed0934b",
   "display_name": "Python 3.8.5 64-bit ('base': conda)"
  }
 },
 "nbformat": 4,
 "nbformat_minor": 2,
 "cells": [
  {
   "source": [
    "# 総和・総乗の関数の作成\n",
    "## 2021年2月28日"
   ],
   "cell_type": "markdown",
   "metadata": {}
  },
  {
   "source": [
    "# 総和関数の定義\n",
    "## 1から引数に入れた数値までの累計和を求める。\n",
    "$$ f(x) = \\sum_{k=1}^n a_i$$"
   ],
   "cell_type": "markdown",
   "metadata": {}
  },
  {
   "cell_type": "code",
   "execution_count": null,
   "metadata": {},
   "outputs": [],
   "source": [
    "def sigma(x):\n",
    "    try:\n",
    "        x = int(x)\n",
    "    except ValueError:\n",
    "        print(\"Input Invalid Error.\")\n",
    "    else:\n",
    "        sum = 0\n",
    "        for i in range(1, x+1):\n",
    "            sum += i\n",
    "            print(sum)\n",
    "\n",
    "\n",
    "sigma(10)"
   ]
  },
  {
   "source": [
    "# 総乗の定義\n",
    "## 1から引数に入れた数値までの累乗をもとめる。\n",
    "$$ f(x) = \\prod_{k=1}^n a_i$$"
   ],
   "cell_type": "markdown",
   "metadata": {}
  },
  {
   "cell_type": "code",
   "execution_count": null,
   "metadata": {},
   "outputs": [],
   "source": [
    "def prod(x):\n",
    "    try:\n",
    "        x = int(x)\n",
    "    except ValueError as e:\n",
    "        print(e)\n",
    "    else:\n",
    "        multi = 1\n",
    "        for i in range(1,x+1):\n",
    "            multi *= i\n",
    "            print(multi)\n",
    "\n",
    "prod(10)"
   ]
  },
  {
   "source": [],
   "cell_type": "markdown",
   "metadata": {}
  },
  {
   "source": [
    "# ヨルシカの歌詞を形態素解析して、ワードマップを作成したい。"
   ],
   "cell_type": "markdown",
   "metadata": {}
  },
  {
   "cell_type": "code",
   "execution_count": null,
   "metadata": {
    "tags": [
     "outputPrepend"
    ]
   },
   "outputs": [],
   "source": [
    "#ライブラリのインポート\n",
    "import requests\n",
    "from bs4 import BeautifulSoup\n",
    "import re\n",
    "\n",
    "\n",
    "#歌ネットからヨルシカの全曲の歌詞のサイトに飛ぶ。\n",
    "artists_url = \"https://www.uta-net.com/artist/22653/4/\"\n",
    "gethtml = requests.get(artists_url)\n",
    "list_data = BeautifulSoup(gethtml.text, 'html.parser')\n",
    "link = list_data.find_all('a')\n",
    "regexp = \"/song/\"+r\"\\d+\" #正規表現でaタグ内の/song/数値のurlを取得する。\n",
    "result_array = []\n",
    "\n",
    "for i in link:\n",
    "    href = i.get('href')\n",
    "    m = re.match(regexp,href)\n",
    "    if type(m) == re.Match:\n",
    "        result_array.append(m.group())\n",
    "    else:\n",
    "        continue\n",
    "\n",
    "url_list = []        \n",
    "for ids in result_array:\n",
    "    url = \"https://www.uta-net.com\"+ids\n",
    "    url_list.append(url)\n",
    "\n",
    "\n",
    "print(result_array)\n",
    "print(url_list)\n",
    "\n",
    "lyric_list = []\n",
    "for url in url_list:\n",
    "    site = requests.get(url)\n",
    "    data = BeautifulSoup(site.text, 'html.parser')\n",
    "    lyrics = data.find_all(id = 'kashi_area')\n",
    "    lyric_list.append(lyrics)\n",
    "\n",
    "lyric_list = str(lyric_list)\n",
    "print(lyric_list)"
   ]
  },
  {
   "cell_type": "code",
   "execution_count": null,
   "metadata": {},
   "outputs": [],
   "source": [
    "for num in range(2,-5,-1):\n",
    "    print(num, end=\", \")"
   ]
  },
  {
   "cell_type": "code",
   "execution_count": null,
   "metadata": {},
   "outputs": [],
   "source": [
    "L = [1,23,'hello',1]\n",
    "print(type(L))"
   ]
  },
  {
   "cell_type": "code",
   "execution_count": null,
   "metadata": {},
   "outputs": [],
   "source": [
    "i = 0\n",
    "while i < 5:\n",
    "    print(i, end=\" \")\n",
    "    i += 1\n",
    "    if i == 3:\n",
    "        break\n",
    "else:\n",
    "    print(0)"
   ]
  },
  {
   "cell_type": "code",
   "execution_count": null,
   "metadata": {},
   "outputs": [],
   "source": [
    "import numpy as np\n",
    "a = round(20.5)\n",
    "b = round(19.5)\n",
    "print(a)\n",
    "print(b)\n",
    "print(a-b)"
   ]
  },
  {
   "cell_type": "code",
   "execution_count": null,
   "metadata": {},
   "outputs": [],
   "source": [
    "'''\n",
    "a [始まりの位置:終わりの位置:スライスの増分]\n",
    "'''\n",
    "str = \"helloworld\"\n",
    "print(str[::2])"
   ]
  },
  {
   "cell_type": "code",
   "execution_count": null,
   "metadata": {},
   "outputs": [],
   "source": [
    "a = '''\n",
    "Twinkle, twinkle, little star,\n",
    "\tHow I wonder what you are! \n",
    "\t\tUp above the world so high,   \t\t\n",
    "\t\tLike a diamond in the sky. \n",
    "Twinkle, twinkle, little star, \n",
    "\tHow I wonder what you are\n",
    "'''\n",
    "\n",
    "print(a)"
   ]
  },
  {
   "cell_type": "code",
   "execution_count": null,
   "metadata": {},
   "outputs": [],
   "source": [
    "import sys\n",
    "print(sys.version)"
   ]
  },
  {
   "cell_type": "code",
   "execution_count": null,
   "metadata": {},
   "outputs": [],
   "source": [
    "import datetime\n",
    "print(datetime.datetime.now())"
   ]
  },
  {
   "cell_type": "code",
   "execution_count": null,
   "metadata": {},
   "outputs": [],
   "source": [
    "a = 1, 2+3, 4\n",
    "print(a)"
   ]
  },
  {
   "cell_type": "code",
   "execution_count": null,
   "metadata": {},
   "outputs": [],
   "source": [
    "a = 1, \"a\", True"
   ]
  },
  {
   "cell_type": "code",
   "execution_count": null,
   "metadata": {},
   "outputs": [],
   "source": [
    "def judge_even_odd(a,b):\n",
    "    try:\n",
    "        a = int(a)\n",
    "        b = int(b)\n",
    "    except ValueError:\n",
    "        print(\"enter valid value\")\n",
    "    else:\n",
    "        result = a*b\n",
    "        if result % 2 == 0:\n",
    "            print(\"Even.\")\n",
    "        else:\n",
    "            print(\"Odd.\")\n",
    "\n",
    "\n",
    "judge_even_odd(5, 5)        "
   ]
  },
  {
   "cell_type": "code",
   "execution_count": null,
   "metadata": {},
   "outputs": [],
   "source": [
    "sample_list1 = list(range(5))\n",
    "def multi(x):\n",
    "    return x*2\n",
    "\n",
    "sample_list2 = map(multi,sample_list1)\n",
    "print(list(sample_list2))"
   ]
  },
  {
   "cell_type": "code",
   "execution_count": null,
   "metadata": {},
   "outputs": [],
   "source": [
    "a, b = map(int, input().split())\n",
    "print(a)\n",
    "print(b)"
   ]
  },
  {
   "cell_type": "code",
   "execution_count": null,
   "metadata": {},
   "outputs": [],
   "source": [
    "a = map(int, [\"1\",\"234\",\"1234567890\"])\n",
    "print(list(a))"
   ]
  },
  {
   "cell_type": "code",
   "execution_count": null,
   "metadata": {},
   "outputs": [],
   "source": [
    "a = int(2.345)\n",
    "print(a)"
   ]
  },
  {
   "cell_type": "code",
   "execution_count": null,
   "metadata": {},
   "outputs": [],
   "source": [
    "list = [1,1,1,2,5]\n",
    "print(list.count(1))"
   ]
  },
  {
   "cell_type": "code",
   "execution_count": null,
   "metadata": {},
   "outputs": [],
   "source": [
    "class Orange:\n",
    "    def __init__(self, w, c):\n",
    "        self.weight = w\n",
    "        self.color = c\n",
    "        print(\"Created!\")\n",
    "\n",
    "orl = Orange(10, \"dark oragne\")\n",
    "print(orl.weight)\n",
    "print(orl.color)\n",
    "print(orl)"
   ]
  },
  {
   "cell_type": "code",
   "execution_count": null,
   "metadata": {},
   "outputs": [],
   "source": [
    "a = 100\n",
    "b = 200\n",
    "a , b = b, a\n",
    "print(a, b)"
   ]
  },
  {
   "cell_type": "code",
   "execution_count": null,
   "metadata": {},
   "outputs": [],
   "source": [
    "a = 10\n",
    "b = 2\n",
    "print(a+b, a-b, a*b, a/b)"
   ]
  },
  {
   "cell_type": "code",
   "execution_count": null,
   "metadata": {},
   "outputs": [],
   "source": [
    "a = 5\n",
    "b = 3\n",
    "print(a%b)"
   ]
  },
  {
   "cell_type": "code",
   "execution_count": null,
   "metadata": {},
   "outputs": [],
   "source": [
    "a = 5\n",
    "b = 10\n",
    "print(a**b)"
   ]
  },
  {
   "cell_type": "code",
   "execution_count": null,
   "metadata": {},
   "outputs": [],
   "source": [
    "l = [1,2,3]\n",
    "print(l.clear())"
   ]
  },
  {
   "cell_type": "code",
   "execution_count": null,
   "metadata": {},
   "outputs": [],
   "source": [
    "l = [1,2]\n",
    "print(l*9)"
   ]
  },
  {
   "cell_type": "code",
   "execution_count": null,
   "metadata": {},
   "outputs": [],
   "source": [
    "import numpy as np \n",
    "import matplotlib.pyplot as plt \n",
    "\n",
    "p = np.array([0.75,0.23,0.02])\n",
    "x = np.array([100,500,10000])\n",
    "\n",
    "for i in range(len(x)):\n",
    "    l = []\n",
    "    m = p[i]*x[i]\n",
    "    l.append(m)\n",
    "    print(sum(l)/len(l))\n",
    "\n",
    "\n",
    "print(np.sum(p*x))"
   ]
  },
  {
   "cell_type": "code",
   "execution_count": null,
   "metadata": {},
   "outputs": [],
   "source": [
    "a = np.array([0,1,2,3,4,5,6,7,8,9])\n",
    "b = np.array([10,20,30,40,50,60,70,80,90,100])\n",
    "x = a+b/np.random.randint(100)\n",
    "print(np.sum(x))\n",
    "print(np.prod(x))"
   ]
  },
  {
   "source": [
    "# Python練習_1"
   ],
   "cell_type": "markdown",
   "metadata": {}
  },
  {
   "cell_type": "code",
   "execution_count": null,
   "metadata": {},
   "outputs": [],
   "source": [
    "def fizzbuzz(x):\n",
    "    if x % 3 == 0 and x % 5 == 0:\n",
    "        print(\"FizzBuzz\")\n",
    "    elif x % 5 == 0:\n",
    "        print(\"Buzz\")\n",
    "    elif x % 3 == 0:\n",
    "        print(\"Fizz\")\n",
    "    else:\n",
    "        print(x)\n",
    "    \n",
    "\n",
    "for i in range(1,101):\n",
    "    fizzbuzz(i)"
   ]
  },
  {
   "source": [
    "# Python練習_2"
   ],
   "cell_type": "markdown",
   "metadata": {}
  },
  {
   "cell_type": "code",
   "execution_count": null,
   "metadata": {},
   "outputs": [],
   "source": [
    "import pandas as pd\n",
    "import numpy as np \n",
    "import matplotlib.pyplot as plt \n",
    "\n",
    "df = pd.read_csv(r\"C:\\Users\\ke-ma\\OneDrive\\ドキュメント\\archive\\adult.csv\")"
   ]
  },
  {
   "cell_type": "code",
   "execution_count": null,
   "metadata": {},
   "outputs": [],
   "source": [
    "#1-年齢の平均値\n",
    "ave = df[\"age\"].mean()\n",
    "print(ave)\n",
    "\n",
    "#2-年齢の合計値\n",
    "amount_age = df[\"age\"].sum()\n",
    "print(amount_age)\n",
    "\n",
    "#3-男性の割合\n",
    "men_ratio = (len(df[df.gender == \"Male\"]) / len(df))*100\n",
    "print(men_ratio) \n",
    "\n",
    "#4-女性・30代・50k以上の収入\n",
    "df_result = df[[\"gender\",\"age\",\"income\"]].query('gender == \"Female\" and age >= 30 and age <= 39 and income == \">50K\" ')\n",
    "print(df_result)"
   ]
  },
  {
   "cell_type": "code",
   "execution_count": null,
   "metadata": {},
   "outputs": [],
   "source": [
    "list = [\"a\",\"b\",\"10\", \"5.2\"]\n",
    "list.sort()\n",
    "print(list)"
   ]
  },
  {
   "cell_type": "code",
   "execution_count": null,
   "metadata": {},
   "outputs": [],
   "source": [
    "list = [1,2,3,4,5,6,7,8,9,10]\n",
    "sum_num = sum(list)\n",
    "print(sum_num)"
   ]
  },
  {
   "cell_type": "code",
   "execution_count": null,
   "metadata": {},
   "outputs": [],
   "source": [
    "def foo():\n",
    "    return False\n",
    "\n",
    "print(foo())"
   ]
  },
  {
   "cell_type": "code",
   "execution_count": null,
   "metadata": {},
   "outputs": [],
   "source": [
    "#2つの自然数の最大公約数を求める(ユークリッドの互除法)\n",
    "'''\n",
    "def eucledianAlgorithm(x, y):\n",
    "    x = int(x)\n",
    "    y = int(y)\n",
    "    if x >= y:\n",
    "        while y > 0:\n",
    "            y = x % y\n",
    "            y = x\n",
    "    return y\n",
    "    \n",
    "    else:\n",
    "        while x > 0:\n",
    "            x = y % x\n",
    "            x = y\n",
    "    return x\n",
    "'''\n",
    "\n",
    "'''\n",
    "正の整数 x と y が入力される\n",
    "x を 1 ずつ増やしながら x - 1 まで割る。割り切れたら記録する\n",
    "y を 1 ずつ増やしながら y - 1 まで割る。割り切れたら記録する\n",
    "記録された割り切れた数の共通を見つける\n",
    "最大の数を見つける\n",
    "'''\n",
    "def gcd(x,y):\n",
    "    x_list = []\n",
    "    y_list = []\n",
    "\n",
    "    cnt = 1\n",
    "    while x > cnt:\n",
    "        if x % cnt == 0:\n",
    "            x_list.append(cnt)\n",
    "        cnt += 1\n",
    "\n",
    "    cnt = 1\n",
    "    while y > cnt:\n",
    "        if y % cnt:\n",
    "            if y % cnt == 0:\n",
    "                y_list.append(cnt)\n",
    "            cnt += 1\n",
    "    cnt_x, cnt_y = 0, 0\n",
    "    gcd_list = []\n",
    "    for t_x in x_list:\n",
    "        for y_x in y_list:\n",
    "            if t_x == t_y:\n",
    "                gcd_list.append(t_y)\n",
    "    return max(gcd_list)\n",
    "\n",
    "\n",
    "print(gcd(10023, 789))\n"
   ]
  },
  {
   "cell_type": "code",
   "execution_count": null,
   "metadata": {},
   "outputs": [],
   "source": [
    "print(\"Hello World\")"
   ]
  },
  {
   "source": [
    "# AtCoder Beginners Contests  \n",
    "# 1.Welcome To AtCoder"
   ],
   "cell_type": "markdown",
   "metadata": {}
  },
  {
   "cell_type": "code",
   "execution_count": 3,
   "metadata": {},
   "outputs": [
    {
     "output_type": "stream",
     "name": "stdout",
     "text": [
      "6 s\n"
     ]
    }
   ],
   "source": [
    "a = int(input())\n",
    "b , c = map(int, input().split())\n",
    "s = input()\n",
    "sum = a + b + c\n",
    "print(sum, s)"
   ]
  },
  {
   "source": [
    "# 2.Product"
   ],
   "cell_type": "markdown",
   "metadata": {}
  },
  {
   "cell_type": "code",
   "execution_count": 11,
   "metadata": {},
   "outputs": [
    {
     "output_type": "stream",
     "name": "stdout",
     "text": [
      "Even\n"
     ]
    }
   ],
   "source": [
    "a, b = map(int, input().split())\n",
    "\n",
    "def isEvenOdd(a, b):\n",
    "    mult = a * b\n",
    "    if mult % 2 == 0:\n",
    "        print(\"Even\")\n",
    "    else:\n",
    "        print(\"Odd\")\n",
    "\n",
    "isEvenOdd(a, b)"
   ]
  },
  {
   "source": [
    "# 3.Placing Marbles  "
   ],
   "cell_type": "markdown",
   "metadata": {}
  },
  {
   "cell_type": "code",
   "execution_count": 17,
   "metadata": {},
   "outputs": [
    {
     "output_type": "stream",
     "name": "stdout",
     "text": [
      "3\n"
     ]
    }
   ],
   "source": [
    "marbles = input()\n",
    "print(marbles.count(\"1\"))"
   ]
  },
  {
   "source": [
    "# 4.Shift Only"
   ],
   "cell_type": "markdown",
   "metadata": {}
  },
  {
   "cell_type": "code",
   "execution_count": 22,
   "metadata": {},
   "outputs": [
    {
     "output_type": "error",
     "ename": "ValueError",
     "evalue": "invalid literal for int() with base 10: ''",
     "traceback": [
      "\u001b[1;31m---------------------------------------------------------------------------\u001b[0m",
      "\u001b[1;31mValueError\u001b[0m                                Traceback (most recent call last)",
      "\u001b[1;32m<ipython-input-22-501f3c86308d>\u001b[0m in \u001b[0;36m<module>\u001b[1;34m\u001b[0m\n\u001b[0;32m      1\u001b[0m \u001b[1;31m#標準入力の入力数を指定する。\u001b[0m\u001b[1;33m\u001b[0m\u001b[1;33m\u001b[0m\u001b[1;33m\u001b[0m\u001b[0m\n\u001b[1;32m----> 2\u001b[1;33m \u001b[0mN\u001b[0m \u001b[1;33m=\u001b[0m \u001b[0mint\u001b[0m\u001b[1;33m(\u001b[0m\u001b[0minput\u001b[0m\u001b[1;33m(\u001b[0m\u001b[1;33m)\u001b[0m\u001b[1;33m)\u001b[0m\u001b[1;33m\u001b[0m\u001b[1;33m\u001b[0m\u001b[0m\n\u001b[0m\u001b[0;32m      3\u001b[0m \u001b[0mnums\u001b[0m \u001b[1;33m=\u001b[0m \u001b[1;33m[\u001b[0m\u001b[0mint\u001b[0m\u001b[1;33m(\u001b[0m\u001b[0minput\u001b[0m\u001b[1;33m(\u001b[0m\u001b[1;33m)\u001b[0m\u001b[1;33m)\u001b[0m \u001b[1;32mfor\u001b[0m \u001b[0mi\u001b[0m \u001b[1;32min\u001b[0m \u001b[0mrange\u001b[0m\u001b[1;33m(\u001b[0m\u001b[0mN\u001b[0m\u001b[1;33m)\u001b[0m\u001b[1;33m]\u001b[0m\u001b[1;33m\u001b[0m\u001b[1;33m\u001b[0m\u001b[0m\n\u001b[0;32m      4\u001b[0m \u001b[1;33m\u001b[0m\u001b[0m\n\u001b[0;32m      5\u001b[0m \u001b[1;31m#配列の要素が全て偶数である間、要素を2で割り続ける\u001b[0m\u001b[1;33m\u001b[0m\u001b[1;33m\u001b[0m\u001b[1;33m\u001b[0m\u001b[0m\n",
      "\u001b[1;31mValueError\u001b[0m: invalid literal for int() with base 10: ''"
     ]
    }
   ],
   "source": [
    "#標準入力の入力数を指定する。\n",
    "N = int(input())\n",
    "nums = list(map(int, input().split()))\n",
    "\n",
    "#配列の要素が全て偶数である間、要素を2で割り続ける\n",
    "cnt = 0\n",
    "while all(num % 2 == 0 for num in nums):\n",
    "    nums = [num / 2 for num in nums]\n",
    "    cnt += 1\n",
    "print(cnt)"
   ]
  },
  {
   "source": [
    "nums = [20,40,60,80,100]\n",
    "\n",
    "for i in range(5):\n",
    "    n_i = nums[i]\n",
    "    if n_i % 2 != 0:\n",
    "        print(0)\n",
    "    else:\n",
    "        while n_i % 2 == 0:\n",
    "            n_i = n_i / 2\n",
    "            print(n_i)"
   ],
   "cell_type": "markdown",
   "metadata": {}
  },
  {
   "cell_type": "code",
   "execution_count": 10,
   "metadata": {},
   "outputs": [
    {
     "output_type": "stream",
     "name": "stdout",
     "text": [
      "<class 'str'>\n13\n3\n"
     ]
    }
   ],
   "source": [
    "inf = float(\"inf\")\n",
    "a = 8\n",
    "min(inf, a, 23, 6)\n",
    "print(type(bin(a)))\n",
    "\n",
    "str = \"hamadamasataka\"\n",
    "print(str.rfind(\"a\"))\n",
    "\n",
    "ans = min(inf, len(bin(a)) - bin(a).rfind(\"1\") - 1)\n",
    "print(ans)"
   ]
  },
  {
   "source": [
    "# 5.Coins"
   ],
   "cell_type": "markdown",
   "metadata": {}
  },
  {
   "cell_type": "code",
   "execution_count": 18,
   "metadata": {},
   "outputs": [
    {
     "output_type": "stream",
     "name": "stdout",
     "text": [
      "213\n[[0, 35, 50], [0, 36, 48], [0, 37, 46], [0, 38, 44], [0, 39, 42], [0, 40, 40], [1, 30, 50], [1, 31, 48], [1, 32, 46], [1, 33, 44], [1, 34, 42], [1, 35, 40], [1, 36, 38], [1, 37, 36], [1, 38, 34], [1, 39, 32], [1, 40, 30], [2, 25, 50], [2, 26, 48], [2, 27, 46], [2, 28, 44], [2, 29, 42], [2, 30, 40], [2, 31, 38], [2, 32, 36], [2, 33, 34], [2, 34, 32], [2, 35, 30], [2, 36, 28], [2, 37, 26], [2, 38, 24], [2, 39, 22], [2, 40, 20], [3, 20, 50], [3, 21, 48], [3, 22, 46], [3, 23, 44], [3, 24, 42], [3, 25, 40], [3, 26, 38], [3, 27, 36], [3, 28, 34], [3, 29, 32], [3, 30, 30], [3, 31, 28], [3, 32, 26], [3, 33, 24], [3, 34, 22], [3, 35, 20], [3, 36, 18], [3, 37, 16], [3, 38, 14], [3, 39, 12], [3, 40, 10], [4, 15, 50], [4, 16, 48], [4, 17, 46], [4, 18, 44], [4, 19, 42], [4, 20, 40], [4, 21, 38], [4, 22, 36], [4, 23, 34], [4, 24, 32], [4, 25, 30], [4, 26, 28], [4, 27, 26], [4, 28, 24], [4, 29, 22], [4, 30, 20], [4, 31, 18], [4, 32, 16], [4, 33, 14], [4, 34, 12], [4, 35, 10], [4, 36, 8], [4, 37, 6], [4, 38, 4], [4, 39, 2], [4, 40, 0], [5, 10, 50], [5, 11, 48], [5, 12, 46], [5, 13, 44], [5, 14, 42], [5, 15, 40], [5, 16, 38], [5, 17, 36], [5, 18, 34], [5, 19, 32], [5, 20, 30], [5, 21, 28], [5, 22, 26], [5, 23, 24], [5, 24, 22], [5, 25, 20], [5, 26, 18], [5, 27, 16], [5, 28, 14], [5, 29, 12], [5, 30, 10], [5, 31, 8], [5, 32, 6], [5, 33, 4], [5, 34, 2], [5, 35, 0], [6, 5, 50], [6, 6, 48], [6, 7, 46], [6, 8, 44], [6, 9, 42], [6, 10, 40], [6, 11, 38], [6, 12, 36], [6, 13, 34], [6, 14, 32], [6, 15, 30], [6, 16, 28], [6, 17, 26], [6, 18, 24], [6, 19, 22], [6, 20, 20], [6, 21, 18], [6, 22, 16], [6, 23, 14], [6, 24, 12], [6, 25, 10], [6, 26, 8], [6, 27, 6], [6, 28, 4], [6, 29, 2], [6, 30, 0], [7, 0, 50], [7, 1, 48], [7, 2, 46], [7, 3, 44], [7, 4, 42], [7, 5, 40], [7, 6, 38], [7, 7, 36], [7, 8, 34], [7, 9, 32], [7, 10, 30], [7, 11, 28], [7, 12, 26], [7, 13, 24], [7, 14, 22], [7, 15, 20], [7, 16, 18], [7, 17, 16], [7, 18, 14], [7, 19, 12], [7, 20, 10], [7, 21, 8], [7, 22, 6], [7, 23, 4], [7, 24, 2], [7, 25, 0], [8, 0, 40], [8, 1, 38], [8, 2, 36], [8, 3, 34], [8, 4, 32], [8, 5, 30], [8, 6, 28], [8, 7, 26], [8, 8, 24], [8, 9, 22], [8, 10, 20], [8, 11, 18], [8, 12, 16], [8, 13, 14], [8, 14, 12], [8, 15, 10], [8, 16, 8], [8, 17, 6], [8, 18, 4], [8, 19, 2], [8, 20, 0], [9, 0, 30], [9, 1, 28], [9, 2, 26], [9, 3, 24], [9, 4, 22], [9, 5, 20], [9, 6, 18], [9, 7, 16], [9, 8, 14], [9, 9, 12], [9, 10, 10], [9, 11, 8], [9, 12, 6], [9, 13, 4], [9, 14, 2], [9, 15, 0], [10, 0, 20], [10, 1, 18], [10, 2, 16], [10, 3, 14], [10, 4, 12], [10, 5, 10], [10, 6, 8], [10, 7, 6], [10, 8, 4], [10, 9, 2], [10, 10, 0], [11, 0, 10], [11, 1, 8], [11, 2, 6], [11, 3, 4], [11, 4, 2], [11, 5, 0], [12, 0, 0]]\n"
     ]
    }
   ],
   "source": [
    "A = int(input())\n",
    "B = int(input())\n",
    "C = int(input())\n",
    "X = int(input())\n",
    "\n",
    "cnt = 0\n",
    "#num_array = []\n",
    "\n",
    "for i in range(A+1):\n",
    "    for j in range(B+1):\n",
    "        for k in range(C+1):\n",
    "            if 10 * i + 2 * j + k == (X / 50):\n",
    "                cnt += 1\n",
    "                #num_array.append([i, j, k])\n",
    "\n",
    "print(cnt)\n",
    "#print(num_array)"
   ]
  },
  {
   "cell_type": "code",
   "execution_count": 5,
   "metadata": {},
   "outputs": [
    {
     "output_type": "stream",
     "name": "stdout",
     "text": [
      "1300\n13.0\n0\n"
     ]
    }
   ],
   "source": [
    "x = 100\n",
    "A = 2\n",
    "B = 2\n",
    "C = 2\n",
    "SUM = 500 * A + 100 * B + 50 * C\n",
    "print(SUM)\n",
    "print(SUM / x)\n",
    "print(SUM % x)"
   ]
  },
  {
   "cell_type": "code",
   "execution_count": 20,
   "metadata": {},
   "outputs": [
    {
     "output_type": "stream",
     "name": "stdout",
     "text": [
      "[0, 0, 0, 0, 0, 0, 0, 0, 0, 0, 0, 0, 0, 0, 0, 0, 0, 0, 0, 0, 0, 50, 100, 150, 200, 250, 300, 350, 400, 450, 500, 550, 600, 650, 700, 750, 800, 850, 900, 950, 0, 100, 200, 300, 400, 500, 600, 700, 800, 900, 1000, 1100, 1200, 1300, 1400, 1500, 1600, 1700, 1800, 1900, 0, 150, 300, 450, 600, 750, 900, 1050, 1200, 1350, 1500, 1650, 1800, 1950, 2100, 2250, 2400, 2550, 2700, 2850, 0, 200, 400, 600, 800, 1000, 1200, 1400, 1600, 1800, 2000, 2200, 2400, 2600, 2800, 3000, 3200, 3400, 3600, 3800, 0, 250, 500, 750, 1000, 1250, 1500, 1750, 2000, 2250, 2500, 2750, 3000, 3250, 3500, 3750, 4000, 4250, 4500, 4750, 0, 300, 600, 900, 1200, 1500, 1800, 2100, 2400, 2700, 3000, 3300, 3600, 3900, 4200, 4500, 4800, 5100, 5400, 5700, 0, 350, 700, 1050, 1400, 1750, 2100, 2450, 2800, 3150, 3500, 3850, 4200, 4550, 4900, 5250, 5600, 5950, 6300, 6650, 0, 400, 800, 1200, 1600, 2000, 2400, 2800, 3200, 3600, 4000, 4400, 4800, 5200, 5600, 6000, 6400, 6800, 7200, 7600, 0, 450, 900, 1350, 1800, 2250, 2700, 3150, 3600, 4050, 4500, 4950, 5400, 5850, 6300, 6750, 7200, 7650, 8100, 8550]\n0\n0\n0\n0\n0\n0\n0\n0\n0\n0\n0\n0\n0\n0\n0\n0\n0\n0\n0\n0\n0\n50\n100\n150\n200\n250\n300\n350\n400\n450\n500\n550\n600\n650\n700\n750\n800\n850\n900\n950\n0\n100\n200\n300\n400\n500\n600\n700\n800\n900\n1000\n1100\n1200\n1300\n1400\n1500\n1600\n1700\n1800\n1900\n0\n150\n300\n450\n600\n750\n900\n1050\n1200\n1350\n1500\n1650\n1800\n1950\n2100\n2250\n2400\n2550\n2700\n2850\n0\n200\n400\n600\n800\n1000\n1200\n1400\n1600\n1800\n2000\n2200\n2400\n2600\n2800\n3000\n3200\n3400\n3600\n3800\n0\n250\n500\n750\n1000\n1250\n1500\n1750\n2000\n2250\n2500\n2750\n3000\n3250\n3500\n3750\n4000\n4250\n4500\n4750\n0\n300\n600\n900\n1200\n1500\n1800\n2100\n2400\n2700\n3000\n3300\n3600\n3900\n4200\n4500\n4800\n5100\n5400\n5700\n0\n350\n700\n1050\n1400\n1750\n2100\n2450\n2800\n3150\n3500\n3850\n4200\n4550\n4900\n5250\n5600\n5950\n6300\n6650\n0\n400\n800\n1200\n1600\n2000\n2400\n2800\n3200\n3600\n4000\n4400\n4800\n5200\n5600\n6000\n6400\n6800\n7200\n7600\n0\n450\n900\n1350\n1800\n2250\n2700\n3150\n3600\n4050\n4500\n4950\n5400\n5850\n6300\n6750\n7200\n7650\n8100\n8550\n"
     ]
    }
   ],
   "source": [
    "print([i * j * 50 for i in range(10) for j in range(20)])\n",
    "for i in range(10):\n",
    "    for j in range(20):\n",
    "        print(i * j * 50)"
   ]
  },
  {
   "source": [
    "# 6.Some Sums"
   ],
   "cell_type": "markdown",
   "metadata": {}
  },
  {
   "cell_type": "code",
   "execution_count": 15,
   "metadata": {},
   "outputs": [
    {
     "output_type": "stream",
     "name": "stdout",
     "text": [
      "1\n"
     ]
    }
   ],
   "source": [
    "#標準入力を受け取る\n",
    "N, A, B = map(int, input().split())\n",
    "\n",
    "#各桁の和(digit_sum)を求める関数\n",
    "def digit_sum(x):\n",
    "    if x < 10:\n",
    "        return x\n",
    "    else:\n",
    "        return digit_sum(x // 10) + x % 10\n",
    "\n",
    "#対象の数値を格納するリスト\n",
    "result_nums = []\n",
    "\n",
    "for i in range(1, N+1):\n",
    "    if digit_sum(i) >= A and digit_sum(i) <= B:\n",
    "        result_nums.append(i)\n",
    "    else:\n",
    "        continue\n",
    "\n",
    "print(sum(result_nums))"
   ]
  },
  {
   "cell_type": "code",
   "execution_count": 16,
   "metadata": {},
   "outputs": [
    {
     "output_type": "stream",
     "name": "stdout",
     "text": [
      "1\n"
     ]
    }
   ],
   "source": [
    "N, A, B = map(int, input().split())\n",
    "print(sum(i for i in range(1, N+1) if A <= sum(map(int, str(i))) <= B))"
   ]
  },
  {
   "cell_type": "code",
   "execution_count": 17,
   "metadata": {
    "tags": []
   },
   "outputs": [
    {
     "output_type": "stream",
     "name": "stdout",
     "text": [
      "1\n"
     ]
    }
   ],
   "source": [
    "N,A,B = map(int,input().split())\n",
    "total = 0\n",
    "for i in range(N):\n",
    "    j=i+1\n",
    "    lst = []\n",
    "    while j>0:\n",
    "        lst.append(j%10)\n",
    "        j //= 10\n",
    "    total = total+i+1 if A<=sum(lst)<=B else total\n",
    "print(total)"
   ]
  },
  {
   "cell_type": "code",
   "execution_count": 5,
   "metadata": {},
   "outputs": [
    {
     "output_type": "stream",
     "name": "stdout",
     "text": [
      "28\n5\n0.0\n"
     ]
    }
   ],
   "source": [
    "import time\n",
    "\n",
    "x = 1998\n",
    "\n",
    "t1 = time.time()\n",
    "def digit_sum(x):\n",
    "    if x < 10:\n",
    "        return x\n",
    "    else:\n",
    "        return int(digit_sum(x / 10) + x % 10)\n",
    "\n",
    "print(digit_sum(x))\n",
    "t2 = time.time()\n",
    "\n",
    "print(digit_sum(14))\n",
    "\n",
    "print(t2 - t1)"
   ]
  },
  {
   "cell_type": "code",
   "execution_count": 10,
   "metadata": {},
   "outputs": [
    {
     "output_type": "stream",
     "name": "stdout",
     "text": [
      "36.88899999999997\n34\n799.9\n"
     ]
    }
   ],
   "source": [
    "import math\n",
    "\n",
    "def digit_sum2(x):\n",
    "    if x < 10:\n",
    "        return x\n",
    "    else:\n",
    "        return digit_sum2(x / 10) + x % 10\n",
    "\n",
    "print(digit_sum2(7999))\n",
    "print(7999 % 10 + (7999 // 10) % 10 + (7999 // 100) % 10 + (7999 // 1000) % 10)\n",
    "print(7999 / 10)"
   ]
  },
  {
   "source": [
    "# 7.Card Game for Two"
   ],
   "cell_type": "markdown",
   "metadata": {}
  },
  {
   "cell_type": "code",
   "execution_count": 13,
   "metadata": {},
   "outputs": [
    {
     "output_type": "stream",
     "name": "stdout",
     "text": [
      "5\n"
     ]
    }
   ],
   "source": [
    "#標準入力を受け取る\n",
    "N = int(input())\n",
    "a_i = list(map(int, input().split()))\n",
    "\n",
    "#カード数列を降順で並べ替える\n",
    "num_list = sorted(a_i, reverse=True)\n",
    "\n",
    "#AliceとBobのカード取得配列を作成する\n",
    "alice = []\n",
    "bob = []\n",
    "\n",
    "#並べ替えた数字配列に対して、偶数番目の値をaliceの配列に、奇数番目の値をbobの配列に追加する。\n",
    "for idx, num in enumerate(num_list):\n",
    "    if idx % 2 == 0:\n",
    "        alice.append(num)\n",
    "    else:\n",
    "        bob.append(num)\n",
    "\n",
    "#両配列の合計値を引き算して差分を求める。\n",
    "print(sum(alice) - sum(bob))"
   ]
  },
  {
   "cell_type": "code",
   "execution_count": 17,
   "metadata": {},
   "outputs": [
    {
     "output_type": "stream",
     "name": "stdout",
     "text": [
      "4108756\n"
     ]
    }
   ],
   "source": [
    "#別解\n",
    "\n",
    "N = int(input())\n",
    "a_i = sorted(map(int, input().split()))[::-1]\n",
    "print(sum(a_i[::2]) - sum(a_i[1::2]))"
   ]
  },
  {
   "cell_type": "code",
   "execution_count": null,
   "metadata": {},
   "outputs": [],
   "source": []
  }
 ]
}